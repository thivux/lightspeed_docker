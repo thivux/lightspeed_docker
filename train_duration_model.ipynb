{
 "cells": [
  {
   "cell_type": "code",
   "execution_count": null,
   "id": "687abc8e",
   "metadata": {
    "execution": {
     "iopub.execute_input": "2023-08-13T09:13:21.896024Z",
     "iopub.status.busy": "2023-08-13T09:13:21.895067Z",
     "iopub.status.idle": "2023-08-13T09:13:34.951461Z",
     "shell.execute_reply": "2023-08-13T09:13:34.950433Z"
    },
    "papermill": {
     "duration": 13.066171,
     "end_time": "2023-08-13T09:13:34.953990",
     "exception": false,
     "start_time": "2023-08-13T09:13:21.887819",
     "status": "completed"
    },
    "tags": []
   },
   "outputs": [],
   "source": [
    "%pip install -q torch transformers tensorflow torch_ema"
   ]
  },
  {
   "cell_type": "code",
   "execution_count": null,
   "id": "7e2c4294",
   "metadata": {
    "execution": {
     "iopub.execute_input": "2023-08-13T09:13:34.963275Z",
     "iopub.status.busy": "2023-08-13T09:13:34.962979Z",
     "iopub.status.idle": "2023-08-13T09:13:47.226068Z",
     "shell.execute_reply": "2023-08-13T09:13:47.225001Z"
    },
    "papermill": {
     "duration": 12.27045,
     "end_time": "2023-08-13T09:13:47.228600",
     "exception": false,
     "start_time": "2023-08-13T09:13:34.958150",
     "status": "completed"
    },
    "tags": []
   },
   "outputs": [],
   "source": [
    "import torch  # isort:skip\n",
    "from tqdm.cli import tqdm\n",
    "from transformers import Adafactor\n",
    "from torch_ema import ExponentialMovingAverage\n",
    "import matplotlib.pyplot as plt\n",
    "import tensorflow as tf\n",
    "from models import DurationNet\n",
    "device = \"cuda\" if torch.cuda.is_available() else \"cpu\"\n",
    "tf.config.set_visible_devices([], 'GPU')"
   ]
  },
  {
   "cell_type": "code",
   "execution_count": null,
   "id": "967f3c68",
   "metadata": {
    "execution": {
     "iopub.execute_input": "2023-08-13T09:13:47.238499Z",
     "iopub.status.busy": "2023-08-13T09:13:47.237901Z",
     "iopub.status.idle": "2023-08-13T09:13:47.247792Z",
     "shell.execute_reply": "2023-08-13T09:13:47.246849Z"
    },
    "papermill": {
     "duration": 0.016861,
     "end_time": "2023-08-13T09:13:47.249861",
     "exception": false,
     "start_time": "2023-08-13T09:13:47.233000",
     "status": "completed"
    },
    "tags": []
   },
   "outputs": [],
   "source": [
    "def load_tfdata(root, split, batch_size):\n",
    "    feature_description = {\n",
    "        \"phone_idx\": tf.io.FixedLenFeature([], tf.string),\n",
    "        \"phone_duration\": tf.io.FixedLenFeature([], tf.string),\n",
    "    }\n",
    "\n",
    "    def parse_tfrecord(r):\n",
    "        r = tf.io.parse_example(r, feature_description)\n",
    "        phone_idx = tf.reshape(tf.io.parse_tensor(r[\"phone_idx\"], out_type=tf.int32), [-1])\n",
    "        phone_duration = tf.reshape(\n",
    "            tf.io.parse_tensor(r[\"phone_duration\"], out_type=tf.float32), [-1]\n",
    "        )\n",
    "        return {\n",
    "            \"phone_idx\": phone_idx,\n",
    "            \"phone_duration\": phone_duration,\n",
    "            \"phone_length\": tf.shape(phone_duration)[0],\n",
    "        }\n",
    "\n",
    "    files = tf.data.Dataset.list_files(f\"{root}/{split}/part_*.tfrecords\")\n",
    "    return (\n",
    "        tf.data.TFRecordDataset(files, num_parallel_reads=4)\n",
    "        .map(parse_tfrecord, num_parallel_calls=4)\n",
    "        .shuffle(buffer_size=batch_size * 32)\n",
    "        .bucket_by_sequence_length(\n",
    "            lambda x: x[\"phone_length\"],\n",
    "            bucket_boundaries=(32, 64, 128, 256, 512),\n",
    "            bucket_batch_sizes=[batch_size] * 6,\n",
    "            pad_to_bucket_boundary=False,\n",
    "            drop_remainder=True,\n",
    "        )\n",
    "        .prefetch(1)\n",
    "    )"
   ]
  },
  {
   "cell_type": "code",
   "execution_count": null,
   "id": "b730c633",
   "metadata": {
    "execution": {
     "iopub.execute_input": "2023-08-13T09:13:47.276782Z",
     "iopub.status.busy": "2023-08-13T09:13:47.276484Z",
     "iopub.status.idle": "2023-08-13T09:13:54.554938Z",
     "shell.execute_reply": "2023-08-13T09:13:54.553942Z"
    },
    "papermill": {
     "duration": 7.285742,
     "end_time": "2023-08-13T09:13:54.557616",
     "exception": false,
     "start_time": "2023-08-13T09:13:47.271874",
     "status": "completed"
    },
    "tags": []
   },
   "outputs": [],
   "source": [
    "net = DurationNet(256, 64, 4).to(device)\n",
    "optim = Adafactor(net.parameters(), warmup_init=False)\n",
    "ema = ExponentialMovingAverage(net.parameters(), decay=0.995)\n",
    "batch_size = 4\n",
    "num_epochs = 50"
   ]
  },
  {
   "cell_type": "code",
   "execution_count": null,
   "id": "13d71674",
   "metadata": {
    "execution": {
     "iopub.execute_input": "2023-08-13T09:13:54.566827Z",
     "iopub.status.busy": "2023-08-13T09:13:54.566528Z",
     "iopub.status.idle": "2023-08-13T09:13:54.572886Z",
     "shell.execute_reply": "2023-08-13T09:13:54.571841Z"
    },
    "papermill": {
     "duration": 0.013122,
     "end_time": "2023-08-13T09:13:54.574877",
     "exception": false,
     "start_time": "2023-08-13T09:13:54.561755",
     "status": "completed"
    },
    "tags": []
   },
   "outputs": [],
   "source": [
    "def loss_fn(net, batch):\n",
    "    token = batch[\"phone_idx\"]\n",
    "    duration = batch[\"phone_duration\"] / 1000.\n",
    "    length = batch[\"phone_length\"]\n",
    "    mask = torch.arange(0, duration.shape[1], device=device)[None, :] < length[:, None]\n",
    "    y = net(token, length).squeeze(-1)\n",
    "    loss = torch.nn.functional.l1_loss(y, duration, reduction=\"none\")\n",
    "    loss = torch.where(mask == 1, loss, 0.0)\n",
    "    loss = torch.sum(loss) / torch.sum(mask)\n",
    "    return loss"
   ]
  },
  {
   "cell_type": "code",
   "execution_count": null,
   "id": "0ed94b20",
   "metadata": {
    "execution": {
     "iopub.execute_input": "2023-08-13T09:13:54.584726Z",
     "iopub.status.busy": "2023-08-13T09:13:54.583325Z",
     "iopub.status.idle": "2023-08-13T09:37:22.622790Z",
     "shell.execute_reply": "2023-08-13T09:37:22.621801Z"
    },
    "papermill": {
     "duration": 1408.046538,
     "end_time": "2023-08-13T09:37:22.625164",
     "exception": false,
     "start_time": "2023-08-13T09:13:54.578626",
     "status": "completed"
    },
    "tags": []
   },
   "outputs": [],
   "source": [
    "ds = load_tfdata(\"data/tfdata\", \"train\", batch_size)\n",
    "val_ds = load_tfdata(\"data/tfdata\", \"test\", batch_size)\n",
    "\n",
    "def prepare_batch(batch):\n",
    "    return {\n",
    "        \"phone_idx\": torch.from_numpy(batch[\"phone_idx\"]).to(device, non_blocking=True),\n",
    "        \"phone_duration\": torch.from_numpy(batch[\"phone_duration\"]).to(device, non_blocking=True),\n",
    "        \"phone_length\": torch.from_numpy(batch[\"phone_length\"]).to(device, non_blocking=True),\n",
    "    }\n",
    "\n",
    "for epoch in range(num_epochs):\n",
    "    losses = []\n",
    "    for batch in tqdm(ds.as_numpy_iterator()):\n",
    "        batch = prepare_batch(batch)\n",
    "        loss = loss_fn(net, batch)\n",
    "        optim.zero_grad(set_to_none=True)\n",
    "        loss.backward()\n",
    "        optim.step()\n",
    "        ema.update()\n",
    "        losses.append(loss.item())\n",
    "    train_loss = sum(losses) / len(losses)\n",
    "    \n",
    "    losses = []\n",
    "    with ema.average_parameters():    \n",
    "        with torch.inference_mode():\n",
    "            net.eval()\n",
    "            for batch in val_ds.as_numpy_iterator():\n",
    "                batch = prepare_batch(batch)\n",
    "                loss = loss_fn(net, batch)\n",
    "                losses.append(loss.item())\n",
    "            net.train()\n",
    "    val_loss = sum(losses) / len(losses)\n",
    "    print(f\"epoch {epoch:<3d}  train loss {train_loss:.5}  val loss {val_loss:.5f}\")"
   ]
  },
  {
   "cell_type": "code",
   "execution_count": null,
   "id": "7c7aff1f",
   "metadata": {
    "execution": {
     "iopub.execute_input": "2023-08-13T09:37:27.299220Z",
     "iopub.status.busy": "2023-08-13T09:37:27.298532Z",
     "iopub.status.idle": "2023-08-13T09:37:27.310163Z",
     "shell.execute_reply": "2023-08-13T09:37:27.309142Z"
    },
    "papermill": {
     "duration": 0.966707,
     "end_time": "2023-08-13T09:37:27.312262",
     "exception": false,
     "start_time": "2023-08-13T09:37:26.345555",
     "status": "completed"
    },
    "tags": []
   },
   "outputs": [],
   "source": [
    "!mkdir -p ckpts\n",
    "ema.copy_to(net.parameters())\n",
    "net = net.eval()\n",
    "torch.save(net.state_dict(), \"ckpts/duration_model.pth\")"
   ]
  },
  {
   "cell_type": "code",
   "execution_count": null,
   "id": "2b80ca97",
   "metadata": {
    "execution": {
     "iopub.execute_input": "2023-08-13T09:37:24.949942Z",
     "iopub.status.busy": "2023-08-13T09:37:24.949550Z",
     "iopub.status.idle": "2023-08-13T09:37:25.455184Z",
     "shell.execute_reply": "2023-08-13T09:37:25.453574Z"
    },
    "papermill": {
     "duration": 1.606196,
     "end_time": "2023-08-13T09:37:25.457395",
     "exception": false,
     "start_time": "2023-08-13T09:37:23.851199",
     "status": "completed"
    },
    "tags": []
   },
   "outputs": [],
   "source": [
    "with torch.inference_mode():\n",
    "    for batch in val_ds.as_numpy_iterator():\n",
    "        batch = prepare_batch(batch)\n",
    "        duration = batch[\"phone_duration\"] / 1000\n",
    "        y = net(batch[\"phone_idx\"], batch[\"phone_length\"]).squeeze(-1)\n",
    "        break\n",
    "    \n",
    "plt.figure(figsize=(10, 5))\n",
    "d = duration[0].tolist()\n",
    "t = y[0].tolist()\n",
    "plt.plot(d, '-*', label=\"target\")\n",
    "plt.plot(t, '-*', label=\"predict\")\n",
    "plt.legend()"
   ]
  }
 ],
 "metadata": {
  "kernelspec": {
   "display_name": "Python 3",
   "language": "python",
   "name": "python3"
  },
  "language_info": {
   "codemirror_mode": {
    "name": "ipython",
    "version": 3
   },
   "file_extension": ".py",
   "mimetype": "text/x-python",
   "name": "python",
   "nbconvert_exporter": "python",
   "pygments_lexer": "ipython3",
   "version": "3.10.12"
  },
  "papermill": {
   "default_parameters": {},
   "duration": 1463.989645,
   "end_time": "2023-08-13T09:37:35.676221",
   "environment_variables": {},
   "exception": null,
   "input_path": "__notebook__.ipynb",
   "output_path": "__notebook__.ipynb",
   "parameters": {},
   "start_time": "2023-08-13T09:13:11.686576",
   "version": "2.4.0"
  }
 },
 "nbformat": 4,
 "nbformat_minor": 5
}
