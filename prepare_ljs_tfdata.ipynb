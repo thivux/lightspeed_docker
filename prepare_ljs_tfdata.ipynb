{
  "cells": [
    {
      "cell_type": "markdown",
      "metadata": {
        "id": "6ypmOr_03EHP"
      },
      "source": [
        "Here's what this notebook does, step-by-step:\n",
        "\n",
        "1. Install the `montreal-force-aligner` (MFA) library using conda. Download the LJSpeech (English) dataset.\n",
        "2. Generate a transcript file for each .wav file in the LJSpeech dataset.\n",
        "3. Train an MFA model on LJSpeech, then align speech and phonemes (creating a timestamp for each phoneme).\n",
        "4. Generate a TensorFlow dataset (tfrecord files) that is ready for training TTS models."
      ]
    },
    {
      "cell_type": "code",
      "execution_count": null,
      "metadata": {},
      "outputs": [],
      "source": [
        "# %pip install tensorflow numpy torch tqdm librosa numba"
      ]
    },
    {
      "cell_type": "code",
      "execution_count": null,
      "metadata": {},
      "outputs": [],
      "source": [
        "# ./data is our working directory\n",
        "!mkdir -p data\n",
        "%cd data"
      ]
    },
    {
      "cell_type": "code",
      "execution_count": null,
      "metadata": {
        "id": "euumE7pMw6j8"
      },
      "outputs": [],
      "source": [
        "!wget https://repo.anaconda.com/miniconda/Miniconda3-py311_23.5.2-0-Linux-x86_64.sh -qO $PWD/miniconda.sh\n",
        "# !wget https://repo.anaconda.com/miniconda/Miniconda3-latest-MacOSX-arm64.sh -qO $PWD/miniconda.sh # for Apple M1\n",
        "!bash $PWD/miniconda.sh -b -p $PWD/miniconda\n",
        "!source $PWD/miniconda/bin/activate && conda create -n aligner -c conda-forge montreal-forced-aligner=2.2.15 -y --quiet\n",
        "!wget https://www.openslr.org/resources/11/librispeech-lexicon.txt -qO lexicon.txt\n",
        "!wget https://data.keithito.com/data/speech/LJSpeech-1.1.tar.bz2 -qO - | tar -xj"
      ]
    },
    {
      "cell_type": "code",
      "execution_count": null,
      "metadata": {
        "id": "AYcSUVSG1_G3"
      },
      "outputs": [],
      "source": [
        "lines = open(\"LJSpeech-1.1/metadata.csv\", \"r\", encoding=\"utf-8\").readlines()\n",
        "for line in lines:\n",
        "  i, _, transcript = line.strip().split('|')\n",
        "  open(f\"LJSpeech-1.1/wavs/{i}.txt\", \"w\").write(transcript)\n",
        "!cat LJSpeech-1.1/wavs/LJ001-0001.txt"
      ]
    },
    {
      "cell_type": "code",
      "execution_count": null,
      "metadata": {
        "id": "1MOqZ0VT0aqv"
      },
      "outputs": [],
      "source": [
        "# replace `nproc` by `sysctl -n hw.physicalcpu` if you are using MacOS\n",
        "!source $PWD/miniconda/bin/activate && conda activate aligner && \\\n",
        "mfa train \\\n",
        "    --num_jobs `nproc` \\\n",
        "    --use_mp \\\n",
        "    --clean \\\n",
        "    --overwrite \\\n",
        "    --no_textgrid_cleanup \\\n",
        "    --single_speaker \\\n",
        "    --output_format json \\\n",
        "    --output_directory LJSpeech-1.1/wavs \\\n",
        "    LJSpeech-1.1/wavs ./lexicon.txt ljs_mfa"
      ]
    },
    {
      "cell_type": "code",
      "execution_count": null,
      "metadata": {
        "id": "p58RNMt8CISF"
      },
      "outputs": [],
      "source": [
        "import json\n",
        "from pathlib import Path\n",
        "import numpy as np\n",
        "import torch\n",
        "import json\n",
        "import librosa\n",
        "import tensorflow as tf\n",
        "from tqdm.auto import tqdm\n",
        "import random"
      ]
    },
    {
      "cell_type": "code",
      "execution_count": null,
      "metadata": {
        "id": "YbF8kuar0zuC"
      },
      "outputs": [],
      "source": [
        "mel_basis = {}\n",
        "hann_window = {}\n",
        "\n",
        "def spectrogram_torch(y, n_fft, sampling_rate, hop_size, win_size, center=False):\n",
        "    global hann_window\n",
        "    if torch.min(y) < -1.0:\n",
        "        print(\"min value is \", torch.min(y))\n",
        "    if torch.max(y) > 1.0:\n",
        "        print(\"max value is \", torch.max(y))\n",
        "\n",
        "    dtype_device = str(y.dtype) + \"_\" + str(y.device)\n",
        "    wnsize_dtype_device = str(win_size) + \"_\" + dtype_device\n",
        "    if wnsize_dtype_device not in hann_window:\n",
        "        hann_window[wnsize_dtype_device] = torch.hann_window(win_size).to(\n",
        "            dtype=y.dtype, device=y.device\n",
        "        )\n",
        "\n",
        "    y = torch.nn.functional.pad(\n",
        "        y.unsqueeze(1),\n",
        "        (int((n_fft - hop_size) / 2), int((n_fft - hop_size) / 2)),\n",
        "        mode=\"reflect\",\n",
        "    )\n",
        "    y = y.squeeze(1)\n",
        "\n",
        "    spec = torch.stft(\n",
        "        y,\n",
        "        n_fft,\n",
        "        hop_length=hop_size,\n",
        "        win_length=win_size,\n",
        "        window=hann_window[wnsize_dtype_device],\n",
        "        center=center,\n",
        "        pad_mode=\"reflect\",\n",
        "        normalized=False,\n",
        "        onesided=True,\n",
        "        return_complex=True\n",
        "    )\n",
        "    spec = torch.view_as_real(spec)\n",
        "    spec = torch.sqrt(spec.pow(2).sum(-1) + 1e-6)\n",
        "    spec = spec.squeeze(0)\n",
        "    return torch.swapaxes(spec, 0, 1)\n",
        "\n",
        "\n",
        "def tensor_to_bytes(t):\n",
        "    t = tf.constant(t)\n",
        "    t = tf.io.serialize_tensor(t)\n",
        "    return tf.train.Feature(bytes_list=tf.train.BytesList(value=[t.numpy()]))\n",
        "\n",
        "\n",
        "def write_tfdata(data, out_file):\n",
        "    with tf.io.TFRecordWriter(out_file) as file_writer:\n",
        "        for wav_file, seq, _ in data:\n",
        "            phone_seq = []\n",
        "            for phone, duration in seq:\n",
        "                phone_idx = phone_set.index(phone)\n",
        "                phone_seq.append((phone_idx, duration))\n",
        "            phone_seq = np.array(phone_seq, dtype=np.float32)\n",
        "\n",
        "            # load wav\n",
        "            wav, sr = librosa.load(wav_file, sr=config[\"data\"][\"sampling_rate\"], dtype=np.float32)\n",
        "            wav = torch.from_numpy(wav)\n",
        "            # compute spec\n",
        "            spec = spectrogram_torch(\n",
        "                wav[None],\n",
        "                n_fft=config[\"data\"][\"filter_length\"],\n",
        "                sampling_rate=config[\"data\"][\"sampling_rate\"],\n",
        "                hop_size=config[\"data\"][\"hop_length\"],\n",
        "                win_size=config[\"data\"][\"win_length\"],\n",
        "                center=False\n",
        "            )\n",
        "\n",
        "            features = {\n",
        "                \"phone_idx\": tensor_to_bytes(phone_seq[:, 0].astype(np.int32)),\n",
        "                \"phone_duration\": tensor_to_bytes(phone_seq[:, 1]),\n",
        "                \"wav\": tensor_to_bytes(wav.half().numpy()),\n",
        "                \"spec\": tensor_to_bytes(spec.half().numpy())\n",
        "            }\n",
        "            example = tf.train.Example(features=tf.train.Features(feature=features))\n",
        "            file_writer.write(example.SerializeToString())\n",
        "\n",
        "def write_split(split, data, num_chunks):\n",
        "    data = np.array(data, dtype=object)\n",
        "    chunks = list(np.array_split(data, num_chunks))\n",
        "    for i, chunk in enumerate(tqdm(chunks)):\n",
        "        write_tfdata(chunk, f\"tfdata/{split}/part_{i:03d}.tfrecords\")"
      ]
    },
    {
      "cell_type": "code",
      "execution_count": null,
      "metadata": {
        "id": "UIAxgVx-DkRI"
      },
      "outputs": [],
      "source": [
        "!mkdir -p tfdata/{train,test}"
      ]
    },
    {
      "cell_type": "code",
      "execution_count": null,
      "metadata": {
        "id": "STURjAulDm5B"
      },
      "outputs": [],
      "source": [
        "with open(\"../config.json\", \"rb\") as f:\n",
        "    config = json.load(f)\n",
        "device = \"cuda\" if torch.cuda.is_available() else \"cpu\"\n",
        "data_dir = Path(\"LJSpeech-1.1/wavs\")\n",
        "json_files = sorted(data_dir.glob(\"*.json\"))\n",
        "dataset = []\n",
        "phone_set = []\n",
        "\n",
        "for file_path in json_files:\n",
        "    with open(file_path, \"rb\") as f:\n",
        "        data = json.load(f)\n",
        "    seq = []\n",
        "    word_index = 0\n",
        "    words =  data[\"tiers\"][\"words\"][\"entries\"]\n",
        "    for start, end, phone in data[\"tiers\"][\"phones\"][\"entries\"]:\n",
        "        if start > words[word_index][1] - 1e-5:\n",
        "            seq.append( (\"<SEP>\", 0) )\n",
        "            word_index += 1\n",
        "        duration = end * 1000 - start * 1000 # ms\n",
        "        phone_set.append(phone)\n",
        "        seq.append( (phone, duration) )\n",
        "    wav_file = file_path.with_suffix(\".wav\")\n",
        "    dataset.append((wav_file, seq, data[\"end\"]))\n",
        "\n",
        "phone_set = [\"<SEP>\"] + sorted(set(phone_set))\n",
        "assert len(phone_set) <= 256\n",
        "with open(\"phone_set.json\", \"w\", encoding=\"utf-8\") as f:\n",
        "    json.dump(phone_set, f)\n",
        "\n",
        "assert phone_set.index(\"<SEP>\") == 0"
      ]
    },
    {
      "cell_type": "code",
      "execution_count": null,
      "metadata": {
        "id": "2d86zvZBD0r6"
      },
      "outputs": [],
      "source": [
        "random.Random(42).shuffle(dataset)\n",
        "L = len(dataset) - 256\n",
        "train_data = dataset[:L]\n",
        "test_data = dataset[L:]\n",
        "print(\"Train data size:\", len(train_data))\n",
        "print(\"Test data size:\", len(test_data))"
      ]
    },
    {
      "cell_type": "code",
      "execution_count": null,
      "metadata": {
        "id": "UnDTA1sKD9Ug"
      },
      "outputs": [],
      "source": [
        "write_split(\"test\", test_data, 1)"
      ]
    },
    {
      "cell_type": "code",
      "execution_count": null,
      "metadata": {
        "id": "JdG7lqdEEQNz"
      },
      "outputs": [],
      "source": [
        "write_split(\"train\", train_data, 100)"
      ]
    }
  ],
  "metadata": {
    "accelerator": "TPU",
    "colab": {
      "machine_shape": "hm",
      "provenance": []
    },
    "kernelspec": {
      "display_name": "Python 3",
      "name": "python3"
    },
    "language_info": {
      "codemirror_mode": {
        "name": "ipython",
        "version": 3
      },
      "file_extension": ".py",
      "mimetype": "text/x-python",
      "name": "python",
      "nbconvert_exporter": "python",
      "pygments_lexer": "ipython3",
      "version": "3.10.11"
    }
  },
  "nbformat": 4,
  "nbformat_minor": 0
}
